{
 "cells": [
  {
   "cell_type": "markdown",
   "metadata": {
    "id": "baBNLfXgvohK"
   },
   "source": [
    "# Machine learning to predict molecule properties : solubility\n",
    "\n"
   ]
  },
  {
   "cell_type": "markdown",
   "metadata": {
    "id": "81eMLawlvohM"
   },
   "source": [
    "The solubility of molecules is an important property in many applications like for drug selection or for compound selection for battery designes (no link to health).\n",
    "\n",
    "Being able to predict the solubility of a molecule from its formula instead of having to make measuring experiment in an important aspect to enhanced fatester molecule discovery.\n",
    "\n",
    "In this notebook we will do basic solubility prediction with machine learning models and rdkit\n"
   ]
  },
  {
   "cell_type": "markdown",
   "metadata": {
    "id": "0NiLSoBrvohM"
   },
   "source": [
    "Install the python rdkit package with pip or conda\n",
    "\n",
    "cf https://www.rdkit.org/docs/index.html"
   ]
  },
  {
   "cell_type": "code",
   "execution_count": 1,
   "metadata": {
    "colab": {
     "base_uri": "https://localhost:8080/"
    },
    "id": "1RRGUpervohN",
    "outputId": "9fd2d4fe-f375-4fa0-9b46-bbb890d64cb8"
   },
   "outputs": [
    {
     "name": "stdout",
     "output_type": "stream",
     "text": [
      "Defaulting to user installation because normal site-packages is not writeable\n",
      "Collecting rdkit-pypi\n",
      "  Downloading rdkit_pypi-2021.9.4-cp36-cp36m-manylinux_2_17_x86_64.manylinux2014_x86_64.whl (20.6 MB)\n",
      "     |████████████████████████████████| 20.6 MB 3.9 MB/s            \n",
      "\u001b[?25hRequirement already satisfied: Pillow in /home/tom/.local/lib/python3.6/site-packages (from rdkit-pypi) (8.2.0)\n",
      "Requirement already satisfied: numpy>=1.19 in /home/tom/.local/lib/python3.6/site-packages (from rdkit-pypi) (1.19.5)\n",
      "Installing collected packages: rdkit-pypi\n",
      "Successfully installed rdkit-pypi-2021.9.4\n"
     ]
    }
   ],
   "source": [
    "!pip install rdkit-pypi"
   ]
  },
  {
   "cell_type": "code",
   "execution_count": 2,
   "metadata": {
    "id": "9qJCFDsxp3wJ"
   },
   "outputs": [],
   "source": [
    "import rdkit"
   ]
  },
  {
   "cell_type": "markdown",
   "metadata": {
    "id": "eeKJpqo4vohO"
   },
   "source": [
    "# Molecule representations with Rdkit"
   ]
  },
  {
   "cell_type": "markdown",
   "metadata": {
    "id": "Ofn0i1h5vohO"
   },
   "source": [
    "Rdkit is a package allowing to work with molecule data and their representation. \n",
    "\n",
    "For basic manipulations, the main submodule is **Chem**\n",
    "\n"
   ]
  },
  {
   "cell_type": "markdown",
   "metadata": {
    "id": "TYs-WClCqSsy"
   },
   "source": [
    "### Smile representation\n",
    "\n",
    "Smile lets represent molecules with text strings\n",
    "\n",
    "\n"
   ]
  },
  {
   "cell_type": "markdown",
   "metadata": {
    "id": "dVs7b-kdvohP"
   },
   "source": [
    "The following string contains the SMILE representation of the paracetamol molecule"
   ]
  },
  {
   "cell_type": "code",
   "execution_count": 3,
   "metadata": {
    "id": "M4pHX8u6vohP"
   },
   "outputs": [],
   "source": [
    "smile = 'CC(=O)NC1=CC=C(O)C=C1'"
   ]
  },
  {
   "cell_type": "markdown",
   "metadata": {
    "id": "S1hNKiMJvohP"
   },
   "source": [
    "import rdkit and the Chem submodule"
   ]
  },
  {
   "cell_type": "code",
   "execution_count": 4,
   "metadata": {
    "id": "Mm0LSB6JvohQ"
   },
   "outputs": [],
   "source": [
    "from rdkit import Chem\n",
    "from rdkit.Chem import Draw"
   ]
  },
  {
   "cell_type": "markdown",
   "metadata": {
    "id": "6pHtDWxZvohQ"
   },
   "source": [
    "Using the MolFromSmiles function, create a molecule from the smile representation and print its types"
   ]
  },
  {
   "cell_type": "code",
   "execution_count": 5,
   "metadata": {
    "colab": {
     "base_uri": "https://localhost:8080/"
    },
    "id": "ccbbFmLOqDJV",
    "outputId": "e9a87df6-b0d2-48d3-dc6a-3383ffec7c5f"
   },
   "outputs": [
    {
     "data": {
      "text/plain": [
       "rdkit.Chem.rdchem.Mol"
      ]
     },
     "execution_count": 5,
     "metadata": {},
     "output_type": "execute_result"
    }
   ],
   "source": [
    "paracetamol = Chem.MolFromSmiles(smile)\n",
    "type(paracetamol)"
   ]
  },
  {
   "cell_type": "markdown",
   "metadata": {
    "id": "UcwWWbzJvohR"
   },
   "source": [
    "With the MolToImage function of the Draw package, display the molecule"
   ]
  },
  {
   "cell_type": "code",
   "execution_count": 6,
   "metadata": {
    "colab": {
     "base_uri": "https://localhost:8080/",
     "height": 317
    },
    "id": "8snxocdqsKNJ",
    "outputId": "d6197d16-b1e9-4b17-c5a2-ab474d7b9fbc"
   },
   "outputs": [
    {
     "data": {
      "image/png": "[encoded data removed]",
      "text/plain": [
       "<PIL.PngImagePlugin.PngImageFile image mode=RGB size=300x300 at 0x7FC071E49320>"
      ]
     },
     "execution_count": 6,
     "metadata": {},
     "output_type": "execute_result"
    }
   ],
   "source": [
    "Draw.MolToImage(paracetamol)"
   ]
  },
  {
   "cell_type": "markdown",
   "metadata": {
    "id": "QshcZERKvohR"
   },
   "source": [
    "You can get the Number of atoms of the molecules and the list of atoms with the methods GetNumAtoms and getAtoms.\n",
    "\n",
    "Print the number of atoms of the molecule"
   ]
  },
  {
   "cell_type": "code",
   "execution_count": 7,
   "metadata": {
    "colab": {
     "base_uri": "https://localhost:8080/"
    },
    "id": "3yiWFSgdsk0j",
    "outputId": "b4ac7a10-705d-4b8e-9481-1192a613fa22"
   },
   "outputs": [
    {
     "data": {
      "text/plain": [
       "11"
      ]
     },
     "execution_count": 7,
     "metadata": {},
     "output_type": "execute_result"
    }
   ],
   "source": [
    "paracetamol.GetNumAtoms()"
   ]
  },
  {
   "cell_type": "code",
   "execution_count": 8,
   "metadata": {
    "colab": {
     "base_uri": "https://localhost:8080/"
    },
    "id": "TYxd1ycUvohS",
    "outputId": "7a94f6af-96a8-49dc-9001-5d12188cbc6d"
   },
   "outputs": [
    {
     "data": {
      "text/plain": [
       "<rdkit.Chem.rdchem._ROAtomSeq at 0x7fc071e46710>"
      ]
     },
     "execution_count": 8,
     "metadata": {},
     "output_type": "execute_result"
    }
   ],
   "source": [
    "paracetamol.GetAtoms()"
   ]
  },
  {
   "cell_type": "markdown",
   "metadata": {
    "id": "fZN3sbkXvohT"
   },
   "source": [
    "If you compare to the picture, you may see that the number of atoms is not 11. What is the total number and why rdkit do not give the same answer ?"
   ]
  },
  {
   "cell_type": "markdown",
   "metadata": {
    "id": "XX_3iz4ZvohT"
   },
   "source": []
  },
  {
   "cell_type": "markdown",
   "metadata": {
    "id": "utiyldSzvohT"
   },
   "source": [
    "Print the list of each atoms"
   ]
  },
  {
   "cell_type": "code",
   "execution_count": 9,
   "metadata": {
    "colab": {
     "base_uri": "https://localhost:8080/"
    },
    "id": "4rN88u9dtueQ",
    "outputId": "8ac85f50-aac1-4c8a-86a0-cc26e5c5b39f"
   },
   "outputs": [
    {
     "name": "stdout",
     "output_type": "stream",
     "text": [
      "C\n",
      "C\n",
      "O\n",
      "N\n",
      "C\n",
      "C\n",
      "C\n",
      "C\n",
      "O\n",
      "C\n",
      "C\n"
     ]
    }
   ],
   "source": [
    "for atom in paracetamol.GetAtoms():\n",
    "    print(atom.GetSymbol())"
   ]
  },
  {
   "cell_type": "markdown",
   "metadata": {
    "id": "gWe1NHMlvohU"
   },
   "source": []
  },
  {
   "cell_type": "markdown",
   "metadata": {
    "id": "weFgD78tvohU"
   },
   "source": [
    "Store the number of bonds of the molecule in **n_bond** (look which method can be used for that) and print"
   ]
  },
  {
   "cell_type": "code",
   "execution_count": 10,
   "metadata": {
    "colab": {
     "base_uri": "https://localhost:8080/"
    },
    "id": "4BJGnXswtxFV",
    "outputId": "f162ebbc-20e7-4f31-b4e5-3a60276afe75"
   },
   "outputs": [
    {
     "data": {
      "text/plain": [
       "11"
      ]
     },
     "execution_count": 10,
     "metadata": {},
     "output_type": "execute_result"
    }
   ],
   "source": [
    "n_bond = paracetamol.GetNumBonds()\n",
    "n_bond"
   ]
  },
  {
   "cell_type": "markdown",
   "metadata": {
    "id": "bATo3_RMvohU"
   },
   "source": [
    "For each bond, print if the bond is single or double"
   ]
  },
  {
   "cell_type": "code",
   "execution_count": 25,
   "metadata": {
    "colab": {
     "base_uri": "https://localhost:8080/"
    },
    "id": "fnYyeB6GvohU",
    "outputId": "f3b92fd1-2442-4a37-d087-9be69e58531c"
   },
   "outputs": [
    {
     "name": "stdout",
     "output_type": "stream",
     "text": [
      "C-C = SINGLE\n",
      "C-O = DOUBLE\n",
      "C-N = SINGLE\n",
      "N-C = SINGLE\n",
      "C-C = AROMATIC\n",
      "C-C = AROMATIC\n",
      "C-C = AROMATIC\n",
      "C-O = SINGLE\n",
      "C-C = AROMATIC\n",
      "C-C = AROMATIC\n",
      "C-C = AROMATIC\n"
     ]
    }
   ],
   "source": [
    "bonds = paracetamol.GetBonds()\n",
    "for bond in bonds:\n",
    "    print(bond.GetBeginAtom().GetSymbol(), end=\"-\")\n",
    "    print(bond.GetEndAtom().GetSymbol(), end=\" = \")\n",
    "    print(bond.GetBondType())"
   ]
  },
  {
   "cell_type": "markdown",
   "metadata": {
    "id": "5ch4vabFuReu"
   },
   "source": [
    "### Reading molecule data from file\n",
    "\n",
    "Apart SMILES, .SDF/ .Mol are also the common formats to save molecules. RDKit provides also functionalities to read these files.\n",
    "\n",
    "\n",
    "Morphine is an opioid agonist used for the relief of moderate to severe acute and chronic pain. The chemical information of this drug can be found at \n",
    "\"https://go.drugbank.com/structures/small_molecule_drugs/DB00295.sdf\". \n",
    "\n",
    "\n",
    "Download this file and save it in a folder. \n",
    "\n"
   ]
  },
  {
   "cell_type": "markdown",
   "metadata": {
    "id": "bxYXQOM3vohV"
   },
   "source": [
    "\n",
    "Read the morphine molecule from the file that you've downloaded using \"rdkit.Chem.SDMolSupplier\" and store the result in a variable named **morphine**\n",
    "\n"
   ]
  },
  {
   "cell_type": "markdown",
   "metadata": {
    "id": "-fRDhBK6vohV"
   },
   "source": [
    "Display its type"
   ]
  },
  {
   "cell_type": "code",
   "execution_count": 29,
   "metadata": {
    "id": "vB0Gf9qlvohV"
   },
   "outputs": [
    {
     "data": {
      "text/plain": [
       "rdkit.Chem.rdmolfiles.SDMolSupplier"
      ]
     },
     "execution_count": 29,
     "metadata": {},
     "output_type": "execute_result"
    }
   ],
   "source": [
    "morphine = Chem.SDMolSupplier('DB00295.sdf')\n",
    "type(morphine)"
   ]
  },
  {
   "cell_type": "markdown",
   "metadata": {
    "id": "x-jsyafNvohW"
   },
   "source": [
    "Display the picture of the molecule\n"
   ]
  },
  {
   "cell_type": "code",
   "execution_count": 30,
   "metadata": {
    "colab": {
     "base_uri": "https://localhost:8080/"
    },
    "id": "quDjgPexvohW",
    "outputId": "8ea41420-fac3-4831-ba45-476b6058a9cb"
   },
   "outputs": [
    {
     "data": {
      "image/png": "[encoded data removed]",
      "text/plain": [
       "<PIL.PngImagePlugin.PngImageFile image mode=RGB size=300x300 at 0x7FC071777208>"
      ]
     },
     "execution_count": 30,
     "metadata": {},
     "output_type": "execute_result"
    }
   ],
   "source": [
    "Chem.Draw.MolToImage(morphine[0])"
   ]
  },
  {
   "cell_type": "markdown",
   "metadata": {
    "id": "EHjYX82RvohX"
   },
   "source": [
    "Display the number of atoms and the number of bonds"
   ]
  },
  {
   "cell_type": "code",
   "execution_count": 31,
   "metadata": {
    "colab": {
     "base_uri": "https://localhost:8080/"
    },
    "id": "danT0skqvohX",
    "outputId": "ea3faf56-95da-4d45-ce06-d66fdd492d1f"
   },
   "outputs": [
    {
     "name": "stdout",
     "output_type": "stream",
     "text": [
      "Atomes numbers: 21\n",
      "Bounds number: 25\n"
     ]
    }
   ],
   "source": [
    "print(\"Atomes numbers:\",morphine[0].GetNumAtoms())\n",
    "print(\"Bounds number:\", len(morphine[0].GetBonds()))"
   ]
  },
  {
   "cell_type": "markdown",
   "metadata": {
    "id": "GZXsjZGw3ofC"
   },
   "source": [
    "### Descriptors \n",
    "\n",
    "\n",
    "Molecules are also described by a set of physiochemical descriptors like \n",
    "- the log partition coefficient,\n",
    "- the polar surface area ... that describe the molecule's structure.\n",
    "\n",
    "\n",
    "RDKit provides utilities that allow us to compute descriptor of molecules.\n",
    "\n",
    "The rdkit.ML.Descriptors module and its sub module let us compute molecule descriptors."
   ]
  },
  {
   "cell_type": "markdown",
   "metadata": {
    "id": "pDU7JPo5vohY"
   },
   "source": [
    "the rdkit.ML.Descriptors module has an attribute name \\_descList, display it"
   ]
  },
  {
   "cell_type": "code",
   "execution_count": 32,
   "metadata": {
    "colab": {
     "base_uri": "https://localhost:8080/"
    },
    "id": "X74Nj0mQvohY",
    "outputId": "c02dc71e-7278-49e0-bb1f-380ca7f32918"
   },
   "outputs": [
    {
     "data": {
      "text/plain": [
       "208"
      ]
     },
     "execution_count": 32,
     "metadata": {},
     "output_type": "execute_result"
    }
   ],
   "source": [
    "from rdkit.Chem import Descriptors\n",
    "\n",
    "len(Descriptors._descList)"
   ]
  },
  {
   "cell_type": "code",
   "execution_count": 35,
   "metadata": {},
   "outputs": [
    {
     "name": "stdout",
     "output_type": "stream",
     "text": [
      "['MaxEStateIndex', 'MinEStateIndex', 'MaxAbsEStateIndex', 'MinAbsEStateIndex', 'qed', 'MolWt', 'HeavyAtomMolWt', 'ExactMolWt', 'NumValenceElectrons', 'NumRadicalElectrons', 'MaxPartialCharge', 'MinPartialCharge', 'MaxAbsPartialCharge', 'MinAbsPartialCharge', 'FpDensityMorgan1', 'FpDensityMorgan2', 'FpDensityMorgan3', 'BCUT2D_MWHI', 'BCUT2D_MWLOW', 'BCUT2D_CHGHI', 'BCUT2D_CHGLO', 'BCUT2D_LOGPHI', 'BCUT2D_LOGPLOW', 'BCUT2D_MRHI', 'BCUT2D_MRLOW', 'BalabanJ', 'BertzCT', 'Chi0', 'Chi0n', 'Chi0v', 'Chi1', 'Chi1n', 'Chi1v', 'Chi2n', 'Chi2v', 'Chi3n', 'Chi3v', 'Chi4n', 'Chi4v', 'HallKierAlpha', 'Ipc', 'Kappa1', 'Kappa2', 'Kappa3', 'LabuteASA', 'PEOE_VSA1', 'PEOE_VSA10', 'PEOE_VSA11', 'PEOE_VSA12', 'PEOE_VSA13', 'PEOE_VSA14', 'PEOE_VSA2', 'PEOE_VSA3', 'PEOE_VSA4', 'PEOE_VSA5', 'PEOE_VSA6', 'PEOE_VSA7', 'PEOE_VSA8', 'PEOE_VSA9', 'SMR_VSA1', 'SMR_VSA10', 'SMR_VSA2', 'SMR_VSA3', 'SMR_VSA4', 'SMR_VSA5', 'SMR_VSA6', 'SMR_VSA7', 'SMR_VSA8', 'SMR_VSA9', 'SlogP_VSA1', 'SlogP_VSA10', 'SlogP_VSA11', 'SlogP_VSA12', 'SlogP_VSA2', 'SlogP_VSA3', 'SlogP_VSA4', 'SlogP_VSA5', 'SlogP_VSA6', 'SlogP_VSA7', 'SlogP_VSA8', 'SlogP_VSA9', 'TPSA', 'EState_VSA1', 'EState_VSA10', 'EState_VSA11', 'EState_VSA2', 'EState_VSA3', 'EState_VSA4', 'EState_VSA5', 'EState_VSA6', 'EState_VSA7', 'EState_VSA8', 'EState_VSA9', 'VSA_EState1', 'VSA_EState10', 'VSA_EState2', 'VSA_EState3', 'VSA_EState4', 'VSA_EState5', 'VSA_EState6', 'VSA_EState7', 'VSA_EState8', 'VSA_EState9', 'FractionCSP3', 'HeavyAtomCount', 'NHOHCount', 'NOCount', 'NumAliphaticCarbocycles', 'NumAliphaticHeterocycles', 'NumAliphaticRings', 'NumAromaticCarbocycles', 'NumAromaticHeterocycles', 'NumAromaticRings', 'NumHAcceptors', 'NumHDonors', 'NumHeteroatoms', 'NumRotatableBonds', 'NumSaturatedCarbocycles', 'NumSaturatedHeterocycles', 'NumSaturatedRings', 'RingCount', 'MolLogP', 'MolMR', 'fr_Al_COO', 'fr_Al_OH', 'fr_Al_OH_noTert', 'fr_ArN', 'fr_Ar_COO', 'fr_Ar_N', 'fr_Ar_NH', 'fr_Ar_OH', 'fr_COO', 'fr_COO2', 'fr_C_O', 'fr_C_O_noCOO', 'fr_C_S', 'fr_HOCCN', 'fr_Imine', 'fr_NH0', 'fr_NH1', 'fr_NH2', 'fr_N_O', 'fr_Ndealkylation1', 'fr_Ndealkylation2', 'fr_Nhpyrrole', 'fr_SH', 'fr_aldehyde', 'fr_alkyl_carbamate', 'fr_alkyl_halide', 'fr_allylic_oxid', 'fr_amide', 'fr_amidine', 'fr_aniline', 'fr_aryl_methyl', 'fr_azide', 'fr_azo', 'fr_barbitur', 'fr_benzene', 'fr_benzodiazepine', 'fr_bicyclic', 'fr_diazo', 'fr_dihydropyridine', 'fr_epoxide', 'fr_ester', 'fr_ether', 'fr_furan', 'fr_guanido', 'fr_halogen', 'fr_hdrzine', 'fr_hdrzone', 'fr_imidazole', 'fr_imide', 'fr_isocyan', 'fr_isothiocyan', 'fr_ketone', 'fr_ketone_Topliss', 'fr_lactam', 'fr_lactone', 'fr_methoxy', 'fr_morpholine', 'fr_nitrile', 'fr_nitro', 'fr_nitro_arom', 'fr_nitro_arom_nonortho', 'fr_nitroso', 'fr_oxazole', 'fr_oxime', 'fr_para_hydroxylation', 'fr_phenol', 'fr_phenol_noOrthoHbond', 'fr_phos_acid', 'fr_phos_ester', 'fr_piperdine', 'fr_piperzine', 'fr_priamide', 'fr_prisulfonamd', 'fr_pyridine', 'fr_quatN', 'fr_sulfide', 'fr_sulfonamd', 'fr_sulfone', 'fr_term_acetylene', 'fr_tetrazole', 'fr_thiazole', 'fr_thiocyan', 'fr_thiophene', 'fr_unbrch_alkane', 'fr_urea']\n"
     ]
    }
   ],
   "source": [
    "desc_names = [desc[0] for desc in Descriptors._descList]\n",
    "print(desc_names)"
   ]
  },
  {
   "cell_type": "markdown",
   "metadata": {
    "id": "m0UG5GI1vohY"
   },
   "source": [
    "Compute all descriptors in the _descList list of the paracetamol molecule using the MoleculeDescriptors.MolecularDescriptorCalculator class"
   ]
  },
  {
   "cell_type": "code",
   "execution_count": 44,
   "metadata": {
    "colab": {
     "base_uri": "https://localhost:8080/"
    },
    "id": "cxfDcKJJvohY",
    "outputId": "571bf61b-9106-47b6-fc5e-48fd6b34960c"
   },
   "outputs": [],
   "source": [
    "from rdkit.ML.Descriptors.MoleculeDescriptors import MolecularDescriptorCalculator\n",
    "\n",
    "calc = MolecularDescriptorCalculator(x[0] for x in Descriptors._descList)\n",
    "\n",
    "calculator = MolecularDescriptorCalculator(desc_names)\n",
    "calc = calculator.CalcDescriptors(paracetamol)"
   ]
  },
  {
   "cell_type": "markdown",
   "metadata": {
    "id": "vQcACF5K3l1y"
   },
   "source": [
    "Display the names and the fvalues of the descriptors"
   ]
  },
  {
   "cell_type": "code",
   "execution_count": 46,
   "metadata": {
    "colab": {
     "base_uri": "https://localhost:8080/"
    },
    "id": "hJe1rXKAvohZ",
    "outputId": "90596313-a991-4e9f-93d5-ab8bd2fb5ac5"
   },
   "outputs": [
    {
     "name": "stdout",
     "output_type": "stream",
     "text": [
      "MaxEStateIndex: 10.524468537414966\n",
      "MinEStateIndex: -0.11510204081632636\n",
      "MaxAbsEStateIndex: 10.524468537414966\n",
      "MinAbsEStateIndex: 0.11510204081632636\n",
      "qed: 0.5950261967780849\n",
      "MolWt: 151.165\n",
      "HeavyAtomMolWt: 142.093\n",
      "ExactMolWt: 151.063328528\n",
      "NumValenceElectrons: 58\n",
      "NumRadicalElectrons: 0\n",
      "MaxPartialCharge: 0.22074743631242583\n",
      "MinPartialCharge: -0.5079643157925783\n",
      "MaxAbsPartialCharge: 0.5079643157925783\n",
      "MinAbsPartialCharge: 0.22074743631242583\n",
      "FpDensityMorgan1: 1.3636363636363635\n",
      "FpDensityMorgan2: 1.9090909090909092\n",
      "FpDensityMorgan3: 2.3636363636363638\n",
      "BCUT2D_MWHI: 16.25468871437965\n",
      "BCUT2D_MWLOW: 10.280190859964755\n",
      "BCUT2D_CHGHI: 1.9280360590359866\n",
      "BCUT2D_CHGLO: -1.9945540738765895\n",
      "BCUT2D_LOGPHI: 2.12524757916018\n",
      "BCUT2D_LOGPLOW: -2.04401131261029\n",
      "BCUT2D_MRHI: 5.88095478459792\n",
      "BCUT2D_MRLOW: -0.11373578338266109\n",
      "BalabanJ: 2.7362980721056545\n",
      "BertzCT: 253.29949758389105\n",
      "Chi0: 8.267584713501616\n",
      "Chi0n: 6.164862962722325\n",
      "Chi0v: 6.164862962722325\n",
      "Chi1: 5.1815405503520555\n",
      "Chi1n: 3.2490981480278296\n",
      "Chi1v: 3.2490981480278296\n",
      "Chi2n: 2.228060242189872\n",
      "Chi2v: 2.228060242189872\n",
      "Chi3n: 1.1876733148984595\n",
      "Chi3v: 1.1876733148984595\n",
      "Chi4n: 0.7480265991539318\n",
      "Chi4v: 0.7480265991539318\n",
      "HallKierAlpha: -1.5099999999999998\n",
      "Ipc: 285.51074052739676\n",
      "Kappa1: 7.595374077976819\n",
      "Kappa2: 3.0531381005525\n",
      "Kappa3: 2.292303972882069\n",
      "LabuteASA: 64.66690538413799\n",
      "PEOE_VSA1: 10.423315998847038\n",
      "PEOE_VSA10: 5.749511833283905\n",
      "PEOE_VSA11: 0.0\n",
      "PEOE_VSA12: 5.907179729351506\n",
      "PEOE_VSA13: 0.0\n",
      "PEOE_VSA14: 0.0\n",
      "PEOE_VSA2: 4.794537184071822\n",
      "PEOE_VSA3: 0.0\n",
      "PEOE_VSA4: 0.0\n",
      "PEOE_VSA5: 0.0\n",
      "PEOE_VSA6: 0.0\n",
      "PEOE_VSA7: 24.26546827384644\n",
      "PEOE_VSA8: 12.611123474374185\n",
      "PEOE_VSA9: 0.0\n",
      "SMR_VSA1: 9.901064578912528\n",
      "SMR_VSA10: 11.594566004035068\n",
      "SMR_VSA2: 0.0\n",
      "SMR_VSA3: 0.0\n",
      "SMR_VSA4: 0.0\n",
      "SMR_VSA5: 6.923737199690624\n",
      "SMR_VSA6: 5.316788604006331\n",
      "SMR_VSA7: 24.26546827384644\n",
      "SMR_VSA8: 0.0\n",
      "SMR_VSA9: 5.749511833283905\n",
      "SlogP_VSA1: 5.316788604006331\n",
      "SlogP_VSA10: 5.687386274683562\n",
      "SlogP_VSA11: 5.749511833283905\n",
      "SlogP_VSA12: 0.0\n",
      "SlogP_VSA2: 11.013707124192212\n",
      "SlogP_VSA3: 4.794537184071822\n",
      "SlogP_VSA4: 0.0\n",
      "SlogP_VSA5: 6.923737199690624\n",
      "SlogP_VSA6: 24.26546827384644\n",
      "SlogP_VSA7: 0.0\n",
      "SlogP_VSA8: 0.0\n",
      "SlogP_VSA9: 0.0\n",
      "TPSA: 49.33\n",
      "EState_VSA1: 0.0\n",
      "EState_VSA10: 4.794537184071822\n",
      "EState_VSA11: 0.0\n",
      "EState_VSA2: 11.65669156263541\n",
      "EState_VSA3: 5.687386274683562\n",
      "EState_VSA4: 0.0\n",
      "EState_VSA5: 19.056471336613843\n",
      "EState_VSA6: 12.13273413692322\n",
      "EState_VSA7: 0.0\n",
      "EState_VSA8: 5.316788604006331\n",
      "EState_VSA9: 5.106527394840706\n",
      "VSA_EState1: 0.0\n",
      "VSA_EState10: 0.0\n",
      "VSA_EState2: 10.524468537414966\n",
      "VSA_EState3: 11.460032596371882\n",
      "VSA_EState4: 0.6900925925925929\n",
      "VSA_EState5: 0.07851095993953194\n",
      "VSA_EState6: 6.309537037037037\n",
      "VSA_EState7: 0.0\n",
      "VSA_EState8: 1.437358276643991\n",
      "VSA_EState9: 0.0\n",
      "FractionCSP3: 0.125\n",
      "HeavyAtomCount: 11\n",
      "NHOHCount: 2\n",
      "NOCount: 3\n",
      "NumAliphaticCarbocycles: 0\n",
      "NumAliphaticHeterocycles: 0\n",
      "NumAliphaticRings: 0\n",
      "NumAromaticCarbocycles: 1\n",
      "NumAromaticHeterocycles: 0\n",
      "NumAromaticRings: 1\n",
      "NumHAcceptors: 2\n",
      "NumHDonors: 2\n",
      "NumHeteroatoms: 3\n",
      "NumRotatableBonds: 1\n",
      "NumSaturatedCarbocycles: 0\n",
      "NumSaturatedHeterocycles: 0\n",
      "NumSaturatedRings: 0\n",
      "RingCount: 1\n",
      "MolLogP: 1.3505999999999998\n",
      "MolMR: 42.41050000000002\n",
      "fr_Al_COO: 0\n",
      "fr_Al_OH: 0\n",
      "fr_Al_OH_noTert: 0\n",
      "fr_ArN: 0\n",
      "fr_Ar_COO: 0\n",
      "fr_Ar_N: 0\n",
      "fr_Ar_NH: 0\n",
      "fr_Ar_OH: 1\n",
      "fr_COO: 0\n",
      "fr_COO2: 0\n",
      "fr_C_O: 1\n",
      "fr_C_O_noCOO: 1\n",
      "fr_C_S: 0\n",
      "fr_HOCCN: 0\n",
      "fr_Imine: 0\n",
      "fr_NH0: 0\n",
      "fr_NH1: 1\n",
      "fr_NH2: 0\n",
      "fr_N_O: 0\n",
      "fr_Ndealkylation1: 0\n",
      "fr_Ndealkylation2: 0\n",
      "fr_Nhpyrrole: 0\n",
      "fr_SH: 0\n",
      "fr_aldehyde: 0\n",
      "fr_alkyl_carbamate: 0\n",
      "fr_alkyl_halide: 0\n",
      "fr_allylic_oxid: 0\n",
      "fr_amide: 1\n",
      "fr_amidine: 0\n",
      "fr_aniline: 1\n",
      "fr_aryl_methyl: 0\n",
      "fr_azide: 0\n",
      "fr_azo: 0\n",
      "fr_barbitur: 0\n",
      "fr_benzene: 1\n",
      "fr_benzodiazepine: 0\n",
      "fr_bicyclic: 0\n",
      "fr_diazo: 0\n",
      "fr_dihydropyridine: 0\n",
      "fr_epoxide: 0\n",
      "fr_ester: 0\n",
      "fr_ether: 0\n",
      "fr_furan: 0\n",
      "fr_guanido: 0\n",
      "fr_halogen: 0\n",
      "fr_hdrzine: 0\n",
      "fr_hdrzone: 0\n",
      "fr_imidazole: 0\n",
      "fr_imide: 0\n",
      "fr_isocyan: 0\n",
      "fr_isothiocyan: 0\n",
      "fr_ketone: 0\n",
      "fr_ketone_Topliss: 0\n",
      "fr_lactam: 0\n",
      "fr_lactone: 0\n",
      "fr_methoxy: 0\n",
      "fr_morpholine: 0\n",
      "fr_nitrile: 0\n",
      "fr_nitro: 0\n",
      "fr_nitro_arom: 0\n",
      "fr_nitro_arom_nonortho: 0\n",
      "fr_nitroso: 0\n",
      "fr_oxazole: 0\n",
      "fr_oxime: 0\n",
      "fr_para_hydroxylation: 0\n",
      "fr_phenol: 1\n",
      "fr_phenol_noOrthoHbond: 1\n",
      "fr_phos_acid: 0\n",
      "fr_phos_ester: 0\n",
      "fr_piperdine: 0\n",
      "fr_piperzine: 0\n",
      "fr_priamide: 0\n",
      "fr_prisulfonamd: 0\n",
      "fr_pyridine: 0\n",
      "fr_quatN: 0\n",
      "fr_sulfide: 0\n",
      "fr_sulfonamd: 0\n",
      "fr_sulfone: 0\n",
      "fr_term_acetylene: 0\n",
      "fr_tetrazole: 0\n",
      "fr_thiazole: 0\n",
      "fr_thiocyan: 0\n",
      "fr_thiophene: 0\n",
      "fr_unbrch_alkane: 0\n",
      "fr_urea: 0\n"
     ]
    }
   ],
   "source": [
    "for i in range(len(desc_names)):\n",
    "    print(desc_names[i], end=\": \")\n",
    "    print(calc[i])"
   ]
  },
  {
   "cell_type": "markdown",
   "metadata": {
    "id": "gljbmF6p3RX8"
   },
   "source": [
    "### Fingerprinting\n",
    "\n",
    "\n",
    "A chemical structure can be characterized by a set of numerical values known as molecular fingerprints. They may be 2D Fragment-based fingerprints presented by bit arrays of 0s and 1s wherein each bit position indicates the presence or absence of structural fragments.\n",
    "\n",
    "\n",
    "The RDKit has a variety of built-in functionality for generating molecular fingerprints and then using them to calculate molecular similarity. In this exercise, we will generate the fingerprints for parcetamol and aspirin that are two popular drugs used for pains.\n",
    "\n",
    "\n"
   ]
  },
  {
   "cell_type": "code",
   "execution_count": null,
   "metadata": {
    "id": "At2f3lMTvoha"
   },
   "outputs": [],
   "source": []
  },
  {
   "cell_type": "markdown",
   "metadata": {
    "id": "fv86hPwRvoha"
   },
   "source": [
    "\n",
    "With the help of rdkit.Chem.AllChem.GetMorganFingerprintAsBitVect, compute its fingerprint as a bit vector. "
   ]
  },
  {
   "cell_type": "code",
   "execution_count": 47,
   "metadata": {
    "id": "8PgW8q8dvoha"
   },
   "outputs": [],
   "source": [
    "from rdkit.Chem.AllChem import GetMorganFingerprintAsBitVect"
   ]
  },
  {
   "cell_type": "markdown",
   "metadata": {
    "id": "LciEQf5pvohb"
   },
   "source": [
    "Display its type"
   ]
  },
  {
   "cell_type": "code",
   "execution_count": 49,
   "metadata": {
    "id": "Tev1bWf7uEod"
   },
   "outputs": [
    {
     "name": "stdout",
     "output_type": "stream",
     "text": [
      "<rdkit.DataStructs.cDataStructs.ExplicitBitVect object at 0x7fc071841710>\n"
     ]
    }
   ],
   "source": [
    "import numpy as np\n",
    "paracetamol_fp = GetMorganFingerprintAsBitVect(paracetamol, 2,nBits=124)\n",
    "print(paracetamol_fp)"
   ]
  },
  {
   "cell_type": "markdown",
   "metadata": {
    "id": "LVyDEInpvohb"
   },
   "source": [
    "With the DataStructs module convert it to a numpy vector and display it shape and display it"
   ]
  },
  {
   "cell_type": "code",
   "execution_count": 50,
   "metadata": {
    "id": "9Cb8JDUe0pOw"
   },
   "outputs": [
    {
     "name": "stdout",
     "output_type": "stream",
     "text": [
      "[0 0 1 0 0 1 0 0 0 0 0 0 0 0 0 0 0 1 0 1 0 0 1 0 0 0 0 0 0 1 0 0 0 0 0 0 0\n",
      " 1 0 0 0 0 0 0 0 0 0 0 0 0 0 1 0 1 0 0 0 0 0 0 0 0 0 0 0 0 0 0 1 0 0 1 0 0\n",
      " 1 0 1 0 0 0 0 0 0 0 0 0 0 0 0 0 0 0 0 0 0 0 0 0 0 0 0 0 0 0 0 1 0 0 0 0 0\n",
      " 1 1 0 0 0 0 0 0 0 0 1 1 0]\n"
     ]
    }
   ],
   "source": [
    "para_vec = np.array(paracetamol_fp)\n",
    "print(para_vec)"
   ]
  },
  {
   "cell_type": "code",
   "execution_count": 51,
   "metadata": {
    "id": "XF1dOI2Pvohc"
   },
   "outputs": [
    {
     "name": "stdout",
     "output_type": "stream",
     "text": [
      "[0 0 0 1 0 1 0 1 1 0 0 0 0 0 0 0 0 1 0 1 0 0 0 0 0 0 0 0 0 1 0 0 0 0 0 0 0\n",
      " 0 0 1 0 0 0 1 0 0 0 0 0 0 1 0 0 1 0 1 0 0 0 0 0 0 0 0 0 1 0 0 0 0 0 0 0 1\n",
      " 1 0 1 0 0 0 0 0 0 0 0 0 0 0 0 0 0 1 0 0 0 0 1 0 0 0 0 0 1 0 0 0 0 0 1 0 0\n",
      " 1 0 0 0 1 0 0 0 0 0 0 1 0]\n"
     ]
    }
   ],
   "source": [
    "aspirin = Chem.MolFromSmiles(\"CC(=O)Oc1ccccc1C(=O)O\")\n",
    "aspirin_fp = GetMorganFingerprintAsBitVect(aspirin, 2, nBits=124)\n",
    "aspi_vec = np.array(aspirin_fp)\n",
    "print(aspi_vec)"
   ]
  },
  {
   "cell_type": "markdown",
   "metadata": {
    "id": "vnJGZ1U6vohb"
   },
   "source": [
    "Create a function smiles_to_np_morganfingerprinting which takes a smile representation and gives back the numpy version of the morgan finger_printing"
   ]
  },
  {
   "cell_type": "code",
   "execution_count": 52,
   "metadata": {},
   "outputs": [],
   "source": [
    "def smiles_to_np_morganfinderprinting(smile, nBits=124):\n",
    "    mol = Chem.MolFromSmiles(smile)\n",
    "    mol_fp = GetMorganFingerprintAsBitVect(mol, 2, nBits=nBits)\n",
    "    mol_vec = np.array(mol_fp)\n",
    "    return mol_vec"
   ]
  },
  {
   "cell_type": "markdown",
   "metadata": {
    "id": "VZgfP46fvohc"
   },
   "source": [
    "Compute the morgan finger printing of the aspirin (CC(=O)OC1=CC=CC=C1C(O)=O) and paracetamol (CC(=O)NC1=CC=C(O)C=C1)"
   ]
  },
  {
   "cell_type": "code",
   "execution_count": 53,
   "metadata": {
    "id": "8PALjOz5232Z"
   },
   "outputs": [
    {
     "data": {
      "text/plain": [
       "array([0, 0, 0, 1, 0, 1, 0, 1, 1, 0, 0, 0, 0, 0, 0, 0, 0, 1, 0, 1, 0, 0,\n",
       "       0, 0, 0, 0, 0, 0, 0, 1, 0, 0, 0, 0, 0, 0, 0, 0, 0, 1, 0, 0, 0, 1,\n",
       "       0, 0, 0, 0, 0, 0, 1, 0, 0, 1, 0, 1, 0, 0, 0, 0, 0, 0, 0, 0, 0, 1,\n",
       "       0, 0, 0, 0, 0, 0, 0, 1, 1, 0, 1, 0, 0, 0, 0, 0, 0, 0, 0, 0, 0, 0,\n",
       "       0, 0, 0, 1, 0, 0, 0, 0, 1, 0, 0, 0, 0, 0, 1, 0, 0, 0, 0, 0, 1, 0,\n",
       "       0, 1, 0, 0, 0, 1, 0, 0, 0, 0, 0, 0, 1, 0])"
      ]
     },
     "execution_count": 53,
     "metadata": {},
     "output_type": "execute_result"
    }
   ],
   "source": [
    "smiles_to_np_morganfinderprinting(\"CC(=O)OC1=CC=CC=C1C(O)=O\")"
   ]
  },
  {
   "cell_type": "markdown",
   "metadata": {
    "id": "VZrHCVuSvohc"
   },
   "source": [
    "Compute the DiceSimilarity of the two molecules"
   ]
  },
  {
   "cell_type": "code",
   "execution_count": 54,
   "metadata": {
    "id": "fxnxfRjq3jDa"
   },
   "outputs": [
    {
     "data": {
      "text/plain": [
       "0.43902439024390244"
      ]
     },
     "execution_count": 54,
     "metadata": {},
     "output_type": "execute_result"
    }
   ],
   "source": [
    "from rdkit import DataStructs\n",
    "DataStructs.FingerprintSimilarity(aspirin_fp,paracetamol_fp, metric=DataStructs.DiceSimilarity)"
   ]
  },
  {
   "cell_type": "markdown",
   "metadata": {
    "id": "SvHtYagP31vo"
   },
   "source": [
    "### SMART\n",
    "\n",
    "In many commonly used applications, we need to determine whether atoms in a molecule match a particular pattern. It can be used for filtering structures or identifying substructures that are associated with toxicological problem.\n",
    "\n",
    "SMART us an extension of the SMILES language that can be used to create queries.\n"
   ]
  },
  {
   "cell_type": "markdown",
   "metadata": {
    "id": "a3Ss6DNXvohc"
   },
   "source": [
    "\n",
    "Find molecules in the following list named \"smiles_list\" that contain the \"CCC\" pattern (you can use the GetSubstructMatch class).\n"
   ]
  },
  {
   "cell_type": "code",
   "execution_count": null,
   "metadata": {
    "id": "_OWAPmtKvohd"
   },
   "outputs": [],
   "source": []
  },
  {
   "cell_type": "markdown",
   "metadata": {
    "id": "2x3B2L_7vohd"
   },
   "source": [
    "\n",
    "\n",
    "Highlight the pattern \"CCC\" in these molecules.\n",
    "\n"
   ]
  },
  {
   "cell_type": "code",
   "execution_count": null,
   "metadata": {
    "id": "IuxmJlEyvohd"
   },
   "outputs": [],
   "source": []
  },
  {
   "cell_type": "markdown",
   "metadata": {
    "id": "UdoiXSIhvohd"
   },
   "source": [
    "\n",
    "Do the same thing ex 1 but for the pattern \"C(=O)N\"."
   ]
  },
  {
   "cell_type": "code",
   "execution_count": null,
   "metadata": {
    "id": "mXqKwAO03xQi"
   },
   "outputs": [],
   "source": []
  }
 ],
 "metadata": {
  "colab": {
   "collapsed_sections": [],
   "name": "Rdkit_exercise.ipynb",
   "provenance": []
  },
  "interpreter": {
   "hash": "dca0ade3e726a953b501b15e8e990130d2b7799f14cfd9f4271676035ebe5511"
  },
  "kernelspec": {
   "display_name": "Python 3",
   "language": "python",
   "name": "python3"
  },
  "language_info": {
   "codemirror_mode": {
    "name": "ipython",
    "version": 3
   },
   "file_extension": ".py",
   "mimetype": "text/x-python",
   "name": "python",
   "nbconvert_exporter": "python",
   "pygments_lexer": "ipython3",
   "version": "3.6.9"
  }
 },
 "nbformat": 4,
 "nbformat_minor": 1
}
